{
 "cells": [
  {
   "cell_type": "code",
   "execution_count": 1,
   "metadata": {},
   "outputs": [],
   "source": [
    "import pandas as pd\n",
    "import os\n",
    "from IPython.display import clear_output\n",
    "import ToolBox.kit_function as kit"
   ]
  },
  {
   "cell_type": "code",
   "execution_count": null,
   "metadata": {},
   "outputs": [
    {
     "name": "stdout",
     "output_type": "stream",
     "text": [
      "Concatenando VIRA MACHO.xlsx na Tabela Master.\n",
      " Planilha 127 de 127\n"
     ]
    }
   ],
   "source": [
    "listSheet = os.listdir('Dados')\n",
    "table_master = pd.DataFrame({})\n",
    "columns = ['Nome','codigo','prc','imp','link']\n",
    "\n",
    "for index,sheet in enumerate(listSheet):\n",
    "    clear_output(wait=False)  \n",
    "    print(f'Concatenando {sheet} na Tabela Master.\\n Planilha {index+1} de {len(listSheet)}')\n",
    "    aux_sheet = kit.readExcel(str('Dados/' + sheet) , columns)\n",
    "    table_master = pd.concat([table_master, aux_sheet])\n",
    "\n",
    "  "
   ]
  },
  {
   "cell_type": "code",
   "execution_count": 6,
   "metadata": {},
   "outputs": [
    {
     "name": "stdout",
     "output_type": "stream",
     "text": [
      "A planilha Scrap-mtx.xlsx foi salva em Links/Scrap-mtx.xlsx\n"
     ]
    }
   ],
   "source": [
    "xlsx_dir = 'Links/'\n",
    "titleCategoria = 'Scrap-mtx'\n",
    "mtxTable = pd.DataFrame(table_master)\n",
    "file_name = xlsx_dir + titleCategoria + '.xlsx'\n",
    "mtxTable.to_excel(file_name, index=False)\n",
    "print(f'A planilha {titleCategoria}.xlsx foi salva em {file_name}')"
   ]
  }
 ],
 "metadata": {
  "kernelspec": {
   "display_name": "Python 3",
   "language": "python",
   "name": "python3"
  },
  "language_info": {
   "codemirror_mode": {
    "name": "ipython",
    "version": 3
   },
   "file_extension": ".py",
   "mimetype": "text/x-python",
   "name": "python",
   "nbconvert_exporter": "python",
   "pygments_lexer": "ipython3",
   "version": "3.11.9"
  }
 },
 "nbformat": 4,
 "nbformat_minor": 2
}
