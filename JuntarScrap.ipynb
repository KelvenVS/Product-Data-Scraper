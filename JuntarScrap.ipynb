{
 "cells": [
  {
   "cell_type": "code",
   "execution_count": 5,
   "metadata": {},
   "outputs": [],
   "source": [
    "import pandas as pd\n",
    "from IPython.display import clear_output\n",
    "import ToolBox.kit_function as kit"
   ]
  },
  {
   "cell_type": "code",
   "execution_count": 8,
   "metadata": {},
   "outputs": [],
   "source": [
    "columns = ['Nome','codigo','prc','imp','link']\n",
    "alow = kit.readExcel('Dados/ABRAÇADEIRA.xlsx',columns)\n"
   ]
  },
  {
   "cell_type": "code",
   "execution_count": 6,
   "metadata": {},
   "outputs": [],
   "source": [
    "tabela_1 = pd.DataFrame({\n",
    "'Nome':['João', 'João', 'Pedro' , 'Caio'], \n",
    "'Telefone': ['12121', '343434', '565656', '787878'], \n",
    "'Carros': ['azul', 'preto', 'verde' , 'amarelo']})\n",
    "\n",
    "tabela_2 = pd.DataFrame({\n",
    "'Nome':['João', 'Marcelo', 'Thiago' , 'Caio'],  \n",
    "'Irmãos': ['1', '3', '2' , '2']})\n",
    "\n",
    "tabela_3 = pd.DataFrame({\n",
    "'Nome':['João', 'João', 'Pedro' , 'Caio'], \n",
    "'Telefone': ['12121', '343434', '565656', '787878'], \n",
    "'Carros': ['BRANCO', 'PRATA', 'PRATA' , 'VERMELHO']})"
   ]
  },
  {
   "cell_type": "code",
   "execution_count": 4,
   "metadata": {},
   "outputs": [
    {
     "data": {
      "text/html": [
       "<div>\n",
       "<style scoped>\n",
       "    .dataframe tbody tr th:only-of-type {\n",
       "        vertical-align: middle;\n",
       "    }\n",
       "\n",
       "    .dataframe tbody tr th {\n",
       "        vertical-align: top;\n",
       "    }\n",
       "\n",
       "    .dataframe thead th {\n",
       "        text-align: right;\n",
       "    }\n",
       "</style>\n",
       "<table border=\"1\" class=\"dataframe\">\n",
       "  <thead>\n",
       "    <tr style=\"text-align: right;\">\n",
       "      <th></th>\n",
       "      <th>Nome</th>\n",
       "      <th>Telefone</th>\n",
       "      <th>Carros</th>\n",
       "    </tr>\n",
       "  </thead>\n",
       "  <tbody>\n",
       "    <tr>\n",
       "      <th>0</th>\n",
       "      <td>João</td>\n",
       "      <td>12121</td>\n",
       "      <td>azul</td>\n",
       "    </tr>\n",
       "    <tr>\n",
       "      <th>1</th>\n",
       "      <td>João</td>\n",
       "      <td>343434</td>\n",
       "      <td>preto</td>\n",
       "    </tr>\n",
       "    <tr>\n",
       "      <th>2</th>\n",
       "      <td>Pedro</td>\n",
       "      <td>565656</td>\n",
       "      <td>verde</td>\n",
       "    </tr>\n",
       "    <tr>\n",
       "      <th>3</th>\n",
       "      <td>Caio</td>\n",
       "      <td>787878</td>\n",
       "      <td>amarelo</td>\n",
       "    </tr>\n",
       "    <tr>\n",
       "      <th>0</th>\n",
       "      <td>João</td>\n",
       "      <td>12121</td>\n",
       "      <td>BRANCO</td>\n",
       "    </tr>\n",
       "    <tr>\n",
       "      <th>1</th>\n",
       "      <td>João</td>\n",
       "      <td>343434</td>\n",
       "      <td>PRATA</td>\n",
       "    </tr>\n",
       "    <tr>\n",
       "      <th>2</th>\n",
       "      <td>Pedro</td>\n",
       "      <td>565656</td>\n",
       "      <td>PRATA</td>\n",
       "    </tr>\n",
       "    <tr>\n",
       "      <th>3</th>\n",
       "      <td>Caio</td>\n",
       "      <td>787878</td>\n",
       "      <td>VERMELHO</td>\n",
       "    </tr>\n",
       "  </tbody>\n",
       "</table>\n",
       "</div>"
      ],
      "text/plain": [
       "    Nome Telefone    Carros\n",
       "0   João    12121      azul\n",
       "1   João   343434     preto\n",
       "2  Pedro   565656     verde\n",
       "3   Caio   787878   amarelo\n",
       "0   João    12121    BRANCO\n",
       "1   João   343434     PRATA\n",
       "2  Pedro   565656     PRATA\n",
       "3   Caio   787878  VERMELHO"
      ]
     },
     "execution_count": 4,
     "metadata": {},
     "output_type": "execute_result"
    }
   ],
   "source": [
    "pd.concat([tabela_1, tabela_3])"
   ]
  }
 ],
 "metadata": {
  "kernelspec": {
   "display_name": "Python 3",
   "language": "python",
   "name": "python3"
  },
  "language_info": {
   "codemirror_mode": {
    "name": "ipython",
    "version": 3
   },
   "file_extension": ".py",
   "mimetype": "text/x-python",
   "name": "python",
   "nbconvert_exporter": "python",
   "pygments_lexer": "ipython3",
   "version": "3.11.9"
  }
 },
 "nbformat": 4,
 "nbformat_minor": 2
}
