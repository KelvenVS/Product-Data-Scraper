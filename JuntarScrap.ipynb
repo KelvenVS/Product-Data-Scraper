{
 "cells": [
  {
   "cell_type": "code",
   "execution_count": 1,
   "metadata": {},
   "outputs": [],
   "source": [
    "import pandas as pd\n",
    "import re\n",
    "import os\n",
    "from IPython.display import clear_output\n",
    "import ToolBox.kit_function as kit"
   ]
  },
  {
   "cell_type": "code",
   "execution_count": 18,
   "metadata": {},
   "outputs": [
    {
     "name": "stdout",
     "output_type": "stream",
     "text": [
      "Concatenando VIRA MACHO.xlsx na Tabela Master.\n",
      " Planilha 127 de 127\n"
     ]
    }
   ],
   "source": [
    "listSheet = os.listdir('Dados')\n",
    "table_master = pd.DataFrame({})\n",
    "columns = ['Nome','codigo','prc','imp','link']\n",
    "\n",
    "for index,sheet in enumerate(listSheet):\n",
    "    clear_output(wait=False)  \n",
    "    print(f'Concatenando {sheet} na Tabela Master.\\n Planilha {index+1} de {len(listSheet)}')\n",
    "    aux_sheet = kit.readExcel(str('Dados/' + sheet) , columns)\n",
    "    table_master = pd.concat([table_master, aux_sheet])\n",
    "\n",
    "table_master =  table_master.reset_index(drop=True)"
   ]
  },
  {
   "cell_type": "code",
   "execution_count": null,
   "metadata": {},
   "outputs": [],
   "source": [
    "table_master.loc[0]"
   ]
  },
  {
   "cell_type": "code",
   "execution_count": 76,
   "metadata": {},
   "outputs": [],
   "source": [
    "def regexClean(string,regexExpression):\n",
    "    result = re.compile(regexExpression).findall(string)\n",
    "    return result"
   ]
  },
  {
   "cell_type": "code",
   "execution_count": 84,
   "metadata": {},
   "outputs": [
    {
     "name": "stdout",
     "output_type": "stream",
     "text": [
      "['5400455']\n"
     ]
    }
   ],
   "source": [
    "t1 = 'Cód. 5400455 • UN'\n",
    "regexEXP = r\"[0-9]+\"\n",
    "alow1 = regexClean(t1,regexEXP)\n",
    "print(alow1)"
   ]
  },
  {
   "cell_type": "code",
   "execution_count": 85,
   "metadata": {},
   "outputs": [
    {
     "name": "stdout",
     "output_type": "stream",
     "text": [
      "['5400455'] ['10,47'] ['27,68%']\n"
     ]
    }
   ],
   "source": [
    "#Código do Produto\n",
    "t1 = 'Cód. 5400455 • UN'\n",
    "regexNumbers = re.compile(r\"[0-9]+\")\n",
    "chk1 = regexNumbers.findall(t1)\n",
    "\n",
    "#Preço\n",
    "t2 = 'R$ 10,47info_outline'\n",
    "regexPrice = re.compile(r\"[0-9]+[,][0-9]+\")\n",
    "chk2 = regexPrice.findall(t2)\n",
    "\n",
    "#IPI e ST\n",
    "t3 = '+ IPI: 5% + ST: 27,68%'\n",
    "regexSTimp = re.compile(r\"[0-9]+[,][0-9]+[%]\")\n",
    "chk3 = regexSTimp.findall(t3)\n",
    "\n",
    "\n",
    "print(chk1,chk2,chk3)"
   ]
  },
  {
   "cell_type": "code",
   "execution_count": 86,
   "metadata": {},
   "outputs": [
    {
     "name": "stdout",
     "output_type": "stream",
     "text": [
      "[('', 'ST: 27,68%')]\n",
      "[('ST: 27%', '')]\n",
      "['ST: 27,68%']\n"
     ]
    }
   ],
   "source": [
    "#IPI e ST\n",
    "t4 = '+ IPI: 5% + ST: 27,68%'\n",
    "t5 = '+ IPI: 5% + ST: 27%'\n",
    "\n",
    "part1 = r'[ST]+[: ]+[0-9]+%'\n",
    "part2 = r'[ST]+[: ]+[0-9]+[,][0-9]+%'\n",
    "\n",
    "# Combina ambas as expressões\n",
    "combined_regex = f\"({part1})|({part2})\"\n",
    "\n",
    "regexSTimp = re.compile(combined_regex)\n",
    "\n",
    "chk4 = regexSTimp.findall(t4)\n",
    "chk5 = regexSTimp.findall(t5)\n",
    "\n",
    "print(chk4)\n",
    "print(chk5)\n",
    "\n",
    "# Resultado é uma lista de tuplas, então ajustamos para obter os valores correspondentes\n",
    "result1 = [match[0] or match[1] for match in chk4]\n",
    "result2 = [match[0] or match[1] for match in chk5]\n",
    "#print(result1)\n",
    "#print(result2)\n",
    "\n",
    "\n",
    "result3 = [match[0] or match[1] for match in regexClean(t4,combined_regex)]\n",
    "print(result3)"
   ]
  },
  {
   "cell_type": "code",
   "execution_count": 11,
   "metadata": {},
   "outputs": [
    {
     "name": "stdout",
     "output_type": "stream",
     "text": [
      "A planilha Scrap-mtx.xlsx foi salva em Links/Scrap-mtx.xlsx\n"
     ]
    }
   ],
   "source": [
    "xlsx_dir = 'Links/'\n",
    "titleCategoria = 'Scrap-mtx'\n",
    "mtxTable = pd.DataFrame(table_master)\n",
    "file_name = xlsx_dir + titleCategoria + '.xlsx'\n",
    "mtxTable.to_excel(file_name, index=False)\n",
    "print(f'A planilha {titleCategoria}.xlsx foi salva em {file_name}')"
   ]
  }
 ],
 "metadata": {
  "kernelspec": {
   "display_name": "Python 3",
   "language": "python",
   "name": "python3"
  },
  "language_info": {
   "codemirror_mode": {
    "name": "ipython",
    "version": 3
   },
   "file_extension": ".py",
   "mimetype": "text/x-python",
   "name": "python",
   "nbconvert_exporter": "python",
   "pygments_lexer": "ipython3",
   "version": "3.11.9"
  }
 },
 "nbformat": 4,
 "nbformat_minor": 2
}
