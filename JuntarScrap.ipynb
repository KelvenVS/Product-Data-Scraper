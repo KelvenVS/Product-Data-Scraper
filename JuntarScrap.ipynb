{
 "cells": [
  {
   "cell_type": "code",
   "execution_count": 2,
   "metadata": {},
   "outputs": [],
   "source": [
    "import pandas as pd\n",
    "import re\n",
    "import os\n",
    "from IPython.display import clear_output\n",
    "import ToolBox.kit_function as kit"
   ]
  },
  {
   "cell_type": "code",
   "execution_count": 3,
   "metadata": {},
   "outputs": [
    {
     "name": "stdout",
     "output_type": "stream",
     "text": [
      "Concatenando VIRA MACHO.xlsx na Tabela Master.\n",
      " Planilha 127 de 127\n"
     ]
    }
   ],
   "source": [
    "listSheet = os.listdir('Dados')\n",
    "table_master = pd.DataFrame({})\n",
    "columns = ['Nome','codigo','prc','imp','link']\n",
    "\n",
    "for index,sheet in enumerate(listSheet):\n",
    "    clear_output(wait=False)  \n",
    "    print(f'Concatenando {sheet} na Tabela Master.\\n Planilha {index+1} de {len(listSheet)}')\n",
    "    aux_sheet = kit.readExcel(str('Dados/' + sheet) , columns)\n",
    "    table_master = pd.concat([table_master, aux_sheet])\n",
    "\n",
    "table_master =  table_master.reset_index(drop=True)"
   ]
  },
  {
   "cell_type": "code",
   "execution_count": 45,
   "metadata": {},
   "outputs": [],
   "source": [
    "def regexClean(string,regexExpression):\n",
    "    result = re.compile(regexExpression).findall(string)\n",
    "    result = (result[0] or result[1])\n",
    "    \n",
    "    if isinstance(result, tuple):\n",
    "        return result[0] or result[1]\n",
    "    else:\n",
    "        return result\n"
   ]
  },
  {
   "cell_type": "code",
   "execution_count": 56,
   "metadata": {},
   "outputs": [],
   "source": [
    "expCodigo = r\"[0-9]+\" #5400455\n",
    "expPrc = r\"[0-9]+[,][0-9]+\" #10,47\n",
    "\n",
    "expIPI1 = r'[IP]+[: ]+[0-9]+%' #IPI: 5%\n",
    "expIPI2 = r'[IP]+[: ]+[0-9]+[,][0-9]+%' #IPI: 5,5%\n",
    "\n",
    "expST1 = r'[ST]+[: ]+[0-9]+%' #ST: 27%\n",
    "expST2 = r'[ST]+[: ]+[0-9]+[,][0-9]+%' #ST: 27,68%\n",
    "\n",
    "expPOR1 = r'[0-9]+%'\n",
    "expPOR2 = r'[0-9]+[,][0-9]+%'\n",
    "\n",
    "# Combina ambas as expressões\n",
    "combined_ST = f\"({expST1})|({expST2})\"\n",
    "combined_IPI = f\"({expIPI1})|({expIPI2})\"\n",
    "combined_POR = f\"({expPOR1})|({expPOR2})\"\n",
    "\n",
    "df = {'Nome':[],\n",
    "    'codigo': [],\n",
    "    'prc': [],\n",
    "    'ipi': [],\n",
    "    'st': [],\n",
    "    'link':[]}"
   ]
  },
  {
   "cell_type": "code",
   "execution_count": 58,
   "metadata": {},
   "outputs": [
    {
     "name": "stdout",
     "output_type": "stream",
     "text": [
      "Cód. 5400455 • UN\n",
      "R$ 2,71info_outline\n",
      "+ IPI: 5% + ST: 27,68%\n",
      "+ IPI: 5% + ST: 27,68%\n",
      "5400455\n",
      "2,71\n",
      "5%\n",
      "27,68%\n"
     ]
    }
   ],
   "source": [
    "codigo = table_master['codigo'][0]\n",
    "preco = table_master['prc'][0]\n",
    "ipi = table_master['imp'][0]\n",
    "st = table_master['imp'][0]\n",
    "\n",
    "codigo = regexClean(codigo,expCodigo)\n",
    "preco = regexClean(preco,expPrc)\n",
    "ipi = regexClean(regexClean(ipi,combined_IPI),combined_POR)\n",
    "st = regexClean(regexClean(st,combined_ST),combined_POR)\n",
    "\n",
    "print(f'{codigo}\\n{preco}\\n{ipi}\\n{st}')"
   ]
  },
  {
   "cell_type": "code",
   "execution_count": 5,
   "metadata": {},
   "outputs": [],
   "source": [
    "for line in range(len(table_master)):\n",
    "    codigo = iter(regexClean(table_master['codigo'][line],expCodigo))\n",
    "    preco = iter(regexClean(table_master['prc'][line],expPrc))\n",
    "    ipi = (match[0] or match[1] for match in regexClean(table_master['imp'][line],combined_IPI))\n",
    "    st = (match[0] or match[1] for match in regexClean(table_master['imp'][line],combined_ST))\n",
    "\n",
    "    #Captura a String Válida\n",
    "    codigo = next(codigo,'')\n",
    "    preco = next(preco,'')\n",
    "    ipi = next(ipi,'')    \n",
    "    st = next(st,'')    \n",
    "    \n",
    "    df['Nome'].append(table_master['Nome'][line])\n",
    "    df['codigo'].append(codigo)\n",
    "    df['prc'].append(preco)\n",
    "    df['ipi'].append(ipi)\n",
    "    df['st'].append(st)\n",
    "    df['link'].append(table_master['link'][line])\n",
    "    "
   ]
  },
  {
   "cell_type": "code",
   "execution_count": 14,
   "metadata": {},
   "outputs": [
    {
     "name": "stdout",
     "output_type": "stream",
     "text": [
      "A planilha Scrap-mtx.xlsx foi salva em Links/Scrap-mtx.xlsx\n"
     ]
    }
   ],
   "source": [
    "xlsx_dir = 'Links/'\n",
    "titleCategoria = 'Scrap-mtx'\n",
    "mtxTable = pd.DataFrame(df)\n",
    "file_name = xlsx_dir + titleCategoria + '.xlsx'\n",
    "mtxTable.to_excel(file_name, index=False)\n",
    "print(f'A planilha {titleCategoria}.xlsx foi salva em {file_name}')"
   ]
  }
 ],
 "metadata": {
  "kernelspec": {
   "display_name": "Python 3",
   "language": "python",
   "name": "python3"
  },
  "language_info": {
   "codemirror_mode": {
    "name": "ipython",
    "version": 3
   },
   "file_extension": ".py",
   "mimetype": "text/x-python",
   "name": "python",
   "nbconvert_exporter": "python",
   "pygments_lexer": "ipython3",
   "version": "3.11.9"
  }
 },
 "nbformat": 4,
 "nbformat_minor": 2
}
