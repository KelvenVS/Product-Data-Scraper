{
 "cells": [
  {
   "cell_type": "code",
   "execution_count": 1,
   "metadata": {},
   "outputs": [],
   "source": [
    "import pandas as pd\n",
    "import re\n",
    "import os\n",
    "from IPython.display import clear_output\n",
    "import ToolBox.kit_function as kit"
   ]
  },
  {
   "cell_type": "code",
   "execution_count": 3,
   "metadata": {},
   "outputs": [
    {
     "name": "stdout",
     "output_type": "stream",
     "text": [
      "Concatenando VIRA MACHO.xlsx na Tabela Master.\n",
      " Planilha 127 de 127\n"
     ]
    }
   ],
   "source": [
    "listSheet = os.listdir('Dados')\n",
    "table_master = pd.DataFrame({})\n",
    "columns = ['Nome','codigo','prc','imp','link']\n",
    "\n",
    "for index,sheet in enumerate(listSheet):\n",
    "    clear_output(wait=False)  \n",
    "    print(f'Concatenando {sheet} na Tabela Master.\\n Planilha {index+1} de {len(listSheet)}')\n",
    "    aux_sheet = kit.readExcel(str('Dados/' + sheet) , columns)\n",
    "    table_master = pd.concat([table_master, aux_sheet])\n",
    "\n",
    "table_master =  table_master.reset_index(drop=True)"
   ]
  },
  {
   "cell_type": "code",
   "execution_count": 6,
   "metadata": {},
   "outputs": [
    {
     "data": {
      "text/plain": [
       "'R$ 2,71info_outline'"
      ]
     },
     "execution_count": 6,
     "metadata": {},
     "output_type": "execute_result"
    }
   ],
   "source": [
    "table_master['Nome'][0]\n",
    "table_master['codigo'][0]\n",
    "table_master['imp'][0]\n",
    "table_master['prc'][0]"
   ]
  },
  {
   "cell_type": "code",
   "execution_count": 8,
   "metadata": {},
   "outputs": [],
   "source": [
    "def regexClean(string,regexExpression):\n",
    "    result = re.compile(regexExpression).findall(string)\n",
    "    return result"
   ]
  },
  {
   "cell_type": "code",
   "execution_count": null,
   "metadata": {},
   "outputs": [],
   "source": [
    "expCodigo = r\"[0-9]+\" #5400455\n",
    "expPrc = r\"[0-9]+[,][0-9]+\" #10,47\n",
    "\n",
    "expIPI1 = r'[IP]+[: ]+[0-9]+%' #IPI: 5%\n",
    "expIPI2 = r'[IP]+[: ]+[0-9]+[,][0-9]+%' #IPI: 5,5%\n",
    "\n",
    "expST1 = r'[ST]+[: ]+[0-9]+%' #ST: 27%\n",
    "expST2 = r'[ST]+[: ]+[0-9]+[,][0-9]+%' #ST: 27,68%\n",
    "\n",
    "# Combina ambas as expressões\n",
    "combined_ST = f\"({expST1})|({expST2})\"\n",
    "combined_IPI = f\"({expIPI1})|({expIPI2})\"\n",
    "\n",
    "#Código do Produto\n",
    "t1 = 'Cód. 5400455 • UN'\n",
    "codigo = regexClean(t1,expCodigo)\n",
    "print(codigo)\n",
    "\n",
    "#Preço\n",
    "t2 = 'R$ 10,47info_outline'\n",
    "preco = regexClean(t2,expPrc)\n",
    "print(preco)\n",
    "\n",
    "#IPI e ST\n",
    "t3 = '+ IPI: 5% + ST: 27,68%'\n",
    "ipi = [match[0] or match[1] for match in regexClean(t3,combined_IPI)]\n",
    "st = [match[0] or match[1] for match in regexClean(t3,combined_ST)]\n",
    "print(ipi)\n",
    "print(st)\n",
    "\n"
   ]
  },
  {
   "cell_type": "code",
   "execution_count": 93,
   "metadata": {},
   "outputs": [
    {
     "name": "stdout",
     "output_type": "stream",
     "text": [
      "['5400455'] ['10,47'] ['27,68%']\n",
      "[('', 'ST: 27,68%')]\n",
      "[('ST: 27%', '')]\n",
      "['ST: 27,68%']\n"
     ]
    }
   ],
   "source": [
    "#Código do Produto\n",
    "t1 = 'Cód. 5400455 • UN'\n",
    "regexNumbers = re.compile(r\"[0-9]+\")\n",
    "chk1 = regexNumbers.findall(t1)\n",
    "\n",
    "#Preço\n",
    "t2 = 'R$ 10,47info_outline'\n",
    "regexPrice = re.compile(r\"[0-9]+[,][0-9]+\")\n",
    "chk2 = regexPrice.findall(t2)\n",
    "\n",
    "#IPI e ST\n",
    "t3 = '+ IPI: 5% + ST: 27,68%'\n",
    "regexSTimp = re.compile(r\"[0-9]+[,][0-9]+[%]\")\n",
    "chk3 = regexSTimp.findall(t3)\n",
    "\n",
    "print(chk1,chk2,chk3)\n",
    "\n",
    "#IPI e ST\n",
    "t4 = '+ IPI: 5% + ST: 27,68%'\n",
    "t5 = '+ IPI: 5% + ST: 27%'\n",
    "\n",
    "part1 = r'[ST]+[: ]+[0-9]+%'\n",
    "part2 = r'[ST]+[: ]+[0-9]+[,][0-9]+%'\n",
    "\n",
    "# Combina ambas as expressões\n",
    "combined_regex = f\"({part1})|({part2})\"\n",
    "\n",
    "regexSTimp = re.compile(combined_regex)\n",
    "\n",
    "chk4 = regexSTimp.findall(t4)\n",
    "chk5 = regexSTimp.findall(t5)\n",
    "\n",
    "print(chk4)\n",
    "print(chk5)\n",
    "\n",
    "# Resultado é uma lista de tuplas, então ajustamos para obter os valores correspondentes\n",
    "result1 = [match[0] or match[1] for match in chk4]\n",
    "result2 = [match[0] or match[1] for match in chk5]\n",
    "#print(result1)\n",
    "#print(result2)\n",
    "\n",
    "\n",
    "result3 = [match[0] or match[1] for match in regexClean(t4,combined_regex)]\n",
    "print(result3)"
   ]
  },
  {
   "cell_type": "code",
   "execution_count": 11,
   "metadata": {},
   "outputs": [
    {
     "name": "stdout",
     "output_type": "stream",
     "text": [
      "A planilha Scrap-mtx.xlsx foi salva em Links/Scrap-mtx.xlsx\n"
     ]
    }
   ],
   "source": [
    "xlsx_dir = 'Links/'\n",
    "titleCategoria = 'Scrap-mtx'\n",
    "mtxTable = pd.DataFrame(table_master)\n",
    "file_name = xlsx_dir + titleCategoria + '.xlsx'\n",
    "mtxTable.to_excel(file_name, index=False)\n",
    "print(f'A planilha {titleCategoria}.xlsx foi salva em {file_name}')"
   ]
  }
 ],
 "metadata": {
  "kernelspec": {
   "display_name": "Python 3",
   "language": "python",
   "name": "python3"
  },
  "language_info": {
   "codemirror_mode": {
    "name": "ipython",
    "version": 3
   },
   "file_extension": ".py",
   "mimetype": "text/x-python",
   "name": "python",
   "nbconvert_exporter": "python",
   "pygments_lexer": "ipython3",
   "version": "3.11.9"
  }
 },
 "nbformat": 4,
 "nbformat_minor": 2
}
