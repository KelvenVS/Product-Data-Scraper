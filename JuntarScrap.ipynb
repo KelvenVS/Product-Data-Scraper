{
 "cells": [
  {
   "cell_type": "code",
   "execution_count": 1,
   "metadata": {},
   "outputs": [],
   "source": [
    "import pandas as pd\n",
    "import re\n",
    "import os\n",
    "from IPython.display import clear_output\n",
    "import ToolBox.kit_function as kit"
   ]
  },
  {
   "cell_type": "code",
   "execution_count": 2,
   "metadata": {},
   "outputs": [
    {
     "name": "stdout",
     "output_type": "stream",
     "text": [
      "Concatenando VIRA MACHO.xlsx na Tabela Master.\n",
      " Planilha 127 de 127\n"
     ]
    }
   ],
   "source": [
    "listSheet = os.listdir('Dados')\n",
    "table_master = pd.DataFrame({})\n",
    "columns = ['Nome','codigo','prc','imp','link']\n",
    "\n",
    "for index,sheet in enumerate(listSheet):\n",
    "    clear_output(wait=False)  \n",
    "    print(f'Concatenando {sheet} na Tabela Master.\\n Planilha {index+1} de {len(listSheet)}')\n",
    "    aux_sheet = kit.readExcel(str('Dados/' + sheet) , columns)\n",
    "    table_master = pd.concat([table_master, aux_sheet])\n",
    "\n",
    "table_master =  table_master.reset_index(drop=True)"
   ]
  },
  {
   "cell_type": "code",
   "execution_count": 3,
   "metadata": {},
   "outputs": [],
   "source": [
    "def regexClean(string, regexExpression, default_value=''):\n",
    "    # Compila e encontra todas as ocorrências\n",
    "    result = re.compile(regexExpression).findall(string)\n",
    "    \n",
    "    # Se o resultado for vazio, retorna o valor padrão\n",
    "    if not result:\n",
    "        return default_value\n",
    "    \n",
    "    # Se o resultado for uma tupla, retorna o primeiro ou segundo valor da tupla\n",
    "    if isinstance(result[0], tuple):\n",
    "        return result[0][0] or result[0][1]\n",
    "    \n",
    "    # Se o resultado for uma lista simples, retorna o primeiro item\n",
    "    return result[0]"
   ]
  },
  {
   "cell_type": "code",
   "execution_count": 4,
   "metadata": {},
   "outputs": [],
   "source": [
    "expCodigo = r\"[0-9]+\" #5400455\n",
    "expPrc = r\"[0-9]+[,][0-9]+\" #10,47\n",
    "\n",
    "expIPI1 = r'[IP]+[: ]+[0-9]+%' #IPI: 5%\n",
    "expIPI2 = r'[IP]+[: ]+[0-9]+[,][0-9]+%' #IPI: 5,5%\n",
    "\n",
    "expST1 = r'[ST]+[: ]+[0-9]+%' #ST: 27%\n",
    "expST2 = r'[ST]+[: ]+[0-9]+[,][0-9]+%' #ST: 27,68%\n",
    "\n",
    "expPOR1 = r'[0-9]+%' #27%\n",
    "expPOR2 = r'[0-9]+[,][0-9]+%' #27,68%\n",
    "\n",
    "# Combina ambas as expressões\n",
    "combined_ST = f\"({expST1})|({expST2})\"\n",
    "combined_IPI = f\"({expIPI1})|({expIPI2})\"\n",
    "combined_POR = f\"({expPOR1})|({expPOR2})\"\n",
    "\n",
    "dataCleaned = {'Nome':[],\n",
    "    'codigo': [],\n",
    "    'prc': [],\n",
    "    'prcAntigo': [],\n",
    "    'ipi': [],\n",
    "    'st': [],\n",
    "    'impAntigo': [],\n",
    "    'link':[]}"
   ]
  },
  {
   "cell_type": "code",
   "execution_count": 9,
   "metadata": {},
   "outputs": [],
   "source": [
    "for line in range(len(table_master)):\n",
    "    codigo = regexClean(table_master['codigo'][line],expCodigo)\n",
    "    preco = regexClean(table_master['prc'][line],expPrc)\n",
    "    ipi = regexClean(regexClean(table_master['imp'][line],combined_IPI),combined_POR)\n",
    "    st = regexClean(regexClean(table_master['imp'][line],combined_ST),combined_POR)  \n",
    "\n",
    "    row_data = {\n",
    "        'Nome': table_master['Nome'][line],\n",
    "        'codigo': codigo,\n",
    "        'prc': preco,\n",
    "        'prcAntigo': table_master['prc'][line],\n",
    "        'ipi': ipi,\n",
    "        'st': st,\n",
    "        'impAntigo': table_master['imp'][line],\n",
    "        'link': table_master['link'][line]\n",
    "    }\n",
    "\n",
    "    for key, value in row_data.items():\n",
    "        dataCleaned[key].append(value)\n",
    "    "
   ]
  },
  {
   "cell_type": "code",
   "execution_count": null,
   "metadata": {},
   "outputs": [
    {
     "name": "stdout",
     "output_type": "stream",
     "text": [
      "A planilha Scrap-mtx.xlsx foi salva em Links/Scrap-mtx.xlsx\n"
     ]
    }
   ],
   "source": [
    "xlsx_dir = 'Links/'\n",
    "title = 'Scrap-mtx'\n",
    "mtxTable = pd.DataFrame(dataCleaned)\n",
    "file_name = xlsx_dir + title + '.xlsx'\n",
    "mtxTable.to_excel(file_name, index=False)\n",
    "print(f'A planilha {title}.xlsx foi salva em {file_name}')"
   ]
  }
 ],
 "metadata": {
  "kernelspec": {
   "display_name": "Python 3",
   "language": "python",
   "name": "python3"
  },
  "language_info": {
   "codemirror_mode": {
    "name": "ipython",
    "version": 3
   },
   "file_extension": ".py",
   "mimetype": "text/x-python",
   "name": "python",
   "nbconvert_exporter": "python",
   "pygments_lexer": "ipython3",
   "version": "3.11.9"
  }
 },
 "nbformat": 4,
 "nbformat_minor": 2
}
