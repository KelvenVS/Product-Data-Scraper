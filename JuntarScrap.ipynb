{
 "cells": [
  {
   "cell_type": "code",
   "execution_count": 1,
   "metadata": {},
   "outputs": [],
   "source": [
    "import pandas as pd\n",
    "import re\n",
    "import os\n",
    "from IPython.display import clear_output\n",
    "import ToolBox.kit_function as kit"
   ]
  },
  {
   "cell_type": "code",
   "execution_count": 2,
   "metadata": {},
   "outputs": [
    {
     "name": "stdout",
     "output_type": "stream",
     "text": [
      "Concatenando VIRA MACHO.xlsx na Tabela Master.\n",
      " Planilha 127 de 127\n"
     ]
    }
   ],
   "source": [
    "listSheet = os.listdir('Dados')\n",
    "table_master = pd.DataFrame({})\n",
    "columns = ['Nome','codigo','prc','imp','link']\n",
    "\n",
    "for index,sheet in enumerate(listSheet):\n",
    "    clear_output(wait=False)  \n",
    "    print(f'Concatenando {sheet} na Tabela Master.\\n Planilha {index+1} de {len(listSheet)}')\n",
    "    aux_sheet = kit.readExcel(str('Dados/' + sheet) , columns)\n",
    "    table_master = pd.concat([table_master, aux_sheet])\n",
    "\n",
    "table_master =  table_master.reset_index(drop=True)"
   ]
  },
  {
   "cell_type": "code",
   "execution_count": 3,
   "metadata": {},
   "outputs": [],
   "source": [
    "def regexClean(string,regexExpression):\n",
    "    result = re.compile(regexExpression).findall(string)\n",
    "    return result"
   ]
  },
  {
   "cell_type": "code",
   "execution_count": 9,
   "metadata": {},
   "outputs": [],
   "source": [
    "expCodigo = r\"[0-9]+\" #5400455\n",
    "expPrc = r\"[0-9]+[,][0-9]+\" #10,47\n",
    "\n",
    "expIPI1 = r'[IP]+[: ]+[0-9]+%' #IPI: 5%\n",
    "expIPI2 = r'[IP]+[: ]+[0-9]+[,][0-9]+%' #IPI: 5,5%\n",
    "\n",
    "expST1 = r'[ST]+[: ]+[0-9]+%' #ST: 27%\n",
    "expST2 = r'[ST]+[: ]+[0-9]+[,][0-9]+%' #ST: 27,68%\n",
    "\n",
    "expPOR = r'\\d+%'\n",
    "\n",
    "# Combina ambas as expressões\n",
    "combined_ST = f\"({expST1})|({expST2})\"\n",
    "combined_IPI = f\"({expIPI1})|({expIPI2})\"\n",
    "\n",
    "df = {'Nome':[],\n",
    "    'codigo': [],\n",
    "    'prc': [],\n",
    "    'ipi': [],\n",
    "    'st': [],\n",
    "    'link':[]}"
   ]
  },
  {
   "cell_type": "code",
   "execution_count": 11,
   "metadata": {},
   "outputs": [
    {
     "ename": "TypeError",
     "evalue": "'list' object is not an iterator",
     "output_type": "error",
     "traceback": [
      "\u001b[1;31m---------------------------------------------------------------------------\u001b[0m",
      "\u001b[1;31mTypeError\u001b[0m                                 Traceback (most recent call last)",
      "Cell \u001b[1;32mIn[11], line 7\u001b[0m\n\u001b[0;32m      4\u001b[0m ipi \u001b[38;5;241m=\u001b[39m (match[\u001b[38;5;241m0\u001b[39m] \u001b[38;5;129;01mor\u001b[39;00m match[\u001b[38;5;241m1\u001b[39m] \u001b[38;5;28;01mfor\u001b[39;00m match \u001b[38;5;129;01min\u001b[39;00m regexClean(table_master[\u001b[38;5;124m'\u001b[39m\u001b[38;5;124mimp\u001b[39m\u001b[38;5;124m'\u001b[39m][line],combined_IPI))\n\u001b[0;32m      5\u001b[0m st \u001b[38;5;241m=\u001b[39m (match[\u001b[38;5;241m0\u001b[39m] \u001b[38;5;129;01mor\u001b[39;00m match[\u001b[38;5;241m1\u001b[39m] \u001b[38;5;28;01mfor\u001b[39;00m match \u001b[38;5;129;01min\u001b[39;00m regexClean(table_master[\u001b[38;5;124m'\u001b[39m\u001b[38;5;124mimp\u001b[39m\u001b[38;5;124m'\u001b[39m][line],combined_ST))\n\u001b[1;32m----> 7\u001b[0m codigo \u001b[38;5;241m=\u001b[39m \u001b[38;5;28;43mnext\u001b[39;49m\u001b[43m(\u001b[49m\u001b[43mcodigo\u001b[49m\u001b[43m)\u001b[49m\n\u001b[0;32m      8\u001b[0m ipi \u001b[38;5;241m=\u001b[39m \u001b[38;5;28mnext\u001b[39m(ipi,\u001b[38;5;124m'\u001b[39m\u001b[38;5;124m'\u001b[39m)    \n\u001b[0;32m      9\u001b[0m st \u001b[38;5;241m=\u001b[39m \u001b[38;5;28mnext\u001b[39m(st,\u001b[38;5;124m'\u001b[39m\u001b[38;5;124m'\u001b[39m)    \n",
      "\u001b[1;31mTypeError\u001b[0m: 'list' object is not an iterator"
     ]
    }
   ],
   "source": [
    "for line in range(len(table_master)):\n",
    "    codigo = regexClean(table_master['codigo'][line],expCodigo)\n",
    "    preco = regexClean(table_master['prc'][line],expPrc)\n",
    "    ipi = (match[0] or match[1] for match in regexClean(table_master['imp'][line],combined_IPI))\n",
    "    st = (match[0] or match[1] for match in regexClean(table_master['imp'][line],combined_ST))\n",
    "\n",
    "    ipi = next(ipi,'')    \n",
    "    st = next(st,'')    \n",
    "    \n",
    "    df['Nome'].append(table_master['Nome'][line])\n",
    "    df['codigo'].append(codigo)\n",
    "    df['prc'].append(preco)\n",
    "    df['ipi'].append(ipi)\n",
    "    df['st'].append(st)\n",
    "    df['link'].append(table_master['link'][line])\n",
    "    "
   ]
  },
  {
   "cell_type": "code",
   "execution_count": 7,
   "metadata": {},
   "outputs": [
    {
     "name": "stdout",
     "output_type": "stream",
     "text": [
      "A planilha Scrap-mtx.xlsx foi salva em Links/Scrap-mtx.xlsx\n"
     ]
    }
   ],
   "source": [
    "xlsx_dir = 'Links/'\n",
    "titleCategoria = 'Scrap-mtx'\n",
    "mtxTable = pd.DataFrame(df)\n",
    "file_name = xlsx_dir + titleCategoria + '.xlsx'\n",
    "mtxTable.to_excel(file_name, index=False)\n",
    "print(f'A planilha {titleCategoria}.xlsx foi salva em {file_name}')"
   ]
  }
 ],
 "metadata": {
  "kernelspec": {
   "display_name": "Python 3",
   "language": "python",
   "name": "python3"
  },
  "language_info": {
   "codemirror_mode": {
    "name": "ipython",
    "version": 3
   },
   "file_extension": ".py",
   "mimetype": "text/x-python",
   "name": "python",
   "nbconvert_exporter": "python",
   "pygments_lexer": "ipython3",
   "version": "3.11.9"
  }
 },
 "nbformat": 4,
 "nbformat_minor": 2
}
