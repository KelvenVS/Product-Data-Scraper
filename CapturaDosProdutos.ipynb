{
 "cells": [
  {
   "cell_type": "code",
   "execution_count": 1,
   "metadata": {},
   "outputs": [],
   "source": [
    "from selenium import webdriver\n",
    "from selenium.webdriver.edge.service import Service\n",
    "from selenium.webdriver.common.by import By\n",
    "from IPython.display import clear_output\n",
    "from selenium.common.exceptions import NoSuchElementException\n",
    "import pandas as pd\n",
    "import kit_function\n",
    "from openpyxl import load_workbook"
   ]
  },
  {
   "cell_type": "code",
   "execution_count": 2,
   "metadata": {},
   "outputs": [],
   "source": [
    "# Inicializa a instância do EDGE\n",
    "service = Service()\n",
    "\n",
    "options = webdriver.EdgeOptions()\n",
    "options.add_argument(\"-inprivate\")\n",
    "driver = webdriver.Edge(service=service, options=options)\n",
    "driver.maximize_window()\n",
    "\n",
    "url = 'https://toolsworldb2b.meuspedidos.com.br/'\n",
    "\n",
    "driver.get(url)"
   ]
  },
  {
   "cell_type": "code",
   "execution_count": 6,
   "metadata": {},
   "outputs": [],
   "source": [
    "sheetCategorias = 'Links/CategoriasMTX.xlsx'\n",
    "columns = ['Link']\n",
    "categoriasLinks = kit_function.readExcel(sheetCategorias,columns)"
   ]
  },
  {
   "cell_type": "code",
   "execution_count": null,
   "metadata": {},
   "outputs": [],
   "source": [
    "for link in categoriasLinks['Link']:\n",
    "    print(link)"
   ]
  },
  {
   "cell_type": "code",
   "execution_count": 4,
   "metadata": {},
   "outputs": [
    {
     "name": "stdout",
     "output_type": "stream",
     "text": [
      "ABRAÇADEIRA\n"
     ]
    }
   ],
   "source": [
    "#Captura o título da categoria\n",
    "cssSeletorTitle = '#catalogWrapper > div:nth-child(2) > div.Catalog__titleB2bContainer___JtAi4 > div > div.Catalog__titleB2bInner___G8ViQ'\n",
    "\n",
    "titleCategoria = driver.find_element(By.CSS_SELECTOR , cssSeletorTitle).text\n",
    "print(titleCategoria)"
   ]
  }
 ],
 "metadata": {
  "kernelspec": {
   "display_name": "Python 3",
   "language": "python",
   "name": "python3"
  },
  "language_info": {
   "codemirror_mode": {
    "name": "ipython",
    "version": 3
   },
   "file_extension": ".py",
   "mimetype": "text/x-python",
   "name": "python",
   "nbconvert_exporter": "python",
   "pygments_lexer": "ipython3",
   "version": "3.11.9"
  }
 },
 "nbformat": 4,
 "nbformat_minor": 2
}
