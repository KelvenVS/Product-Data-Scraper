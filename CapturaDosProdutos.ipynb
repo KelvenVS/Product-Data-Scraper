{
 "cells": [
  {
   "cell_type": "code",
   "execution_count": 24,
   "metadata": {},
   "outputs": [],
   "source": [
    "#Diversos\n",
    "import pandas as pd\n",
    "from IPython.display import clear_output\n",
    "import ToolBox.kit_function as kit\n",
    "\n",
    "#WebDriver\n",
    "from selenium import webdriver\n",
    "from selenium.webdriver.edge.service import Service\n",
    "from selenium.webdriver.common.by import By\n",
    "from selenium.webdriver.support.wait import WebDriverWait\n",
    "\n",
    "#Ações\n",
    "from selenium.webdriver import ActionChains\n",
    "from selenium.webdriver.common.actions.wheel_input import ScrollOrigin\n",
    "#from ast import Break\n",
    "\n",
    "# Exceções\n",
    "from selenium.common.exceptions import NoSuchElementException\n",
    "from selenium.common.exceptions import TimeoutException as Timeout\n",
    "from selenium.common.exceptions import ElementNotInteractableException as NotInteract\n",
    "from selenium.common.exceptions import ElementClickInterceptedException as NotAvailibleElement\n",
    "from selenium.common.exceptions import NoSuchWindowException as CrashJanela\n",
    "from selenium.webdriver.support import expected_conditions as EC"
   ]
  },
  {
   "cell_type": "code",
   "execution_count": 25,
   "metadata": {},
   "outputs": [],
   "source": [
    "# Inicializa a instância do EDGE\n",
    "service = Service()\n",
    "\n",
    "options = webdriver.EdgeOptions()\n",
    "options.add_argument(\"-inprivate\")\n",
    "driver = webdriver.Edge(service=service, options=options)\n",
    "driver.maximize_window()\n",
    "\n",
    "url = 'https://toolsworldb2b.meuspedidos.com.br/'\n",
    "\n",
    "driver.get(url)"
   ]
  },
  {
   "cell_type": "code",
   "execution_count": 26,
   "metadata": {},
   "outputs": [],
   "source": [
    "sheetCategorias = 'Links/CategoriasMTX.xlsx'\n",
    "columns = ['Link']\n",
    "categoriasLinks = kit.readExcel(sheetCategorias,columns)"
   ]
  },
  {
   "cell_type": "code",
   "execution_count": null,
   "metadata": {},
   "outputs": [],
   "source": [
    "for link in categoriasLinks['Link']:\n",
    "    print(link)"
   ]
  },
  {
   "cell_type": "code",
   "execution_count": 4,
   "metadata": {},
   "outputs": [
    {
     "name": "stdout",
     "output_type": "stream",
     "text": [
      "ABRAÇADEIRA\n"
     ]
    }
   ],
   "source": [
    "#Captura o título da categoria\n",
    "cssSeletorTitle = '#catalogWrapper > div:nth-child(2) > div.Catalog__titleB2bContainer___JtAi4 > div > div.Catalog__titleB2bInner___G8ViQ'\n",
    "\n",
    "titleCategoria = driver.find_element(By.CSS_SELECTOR , cssSeletorTitle).text\n",
    "print(titleCategoria)"
   ]
  },
  {
   "cell_type": "code",
   "execution_count": 30,
   "metadata": {},
   "outputs": [],
   "source": [
    "#Scroll No menu de categorias para carregar elementos\n",
    "footer = driver.find_element(By.TAG_NAME, \"footer\")\n",
    "scroll_origin = ScrollOrigin.from_element(footer, 0, -50)\n",
    "ActionChains(driver)\\\n",
    "    .scroll_from_origin(scroll_origin, 0, 8000)\\\n",
    "    .perform()"
   ]
  },
  {
   "cell_type": "code",
   "execution_count": null,
   "metadata": {},
   "outputs": [],
   "source": [
    "#https://toolsworldb2b.meuspedidos.com.br/?categoria=1740255&representada=448126"
   ]
  },
  {
   "cell_type": "code",
   "execution_count": 33,
   "metadata": {},
   "outputs": [
    {
     "name": "stdout",
     "output_type": "stream",
     "text": [
      "Iniciando varredura, quantidade inicial: 48\n",
      "Verificação Terminada. Total: \n",
      "177 Itens\n"
     ]
    }
   ],
   "source": [
    "#Verifica a qtd de itens na pagina\n",
    "WebDriverWait(driver, 15).until(EC.presence_of_element_located((By.CLASS_NAME, 'catalog-item-b2b-title')))\n",
    "itens = driver.find_elements(By.CLASS_NAME, 'catalog-item-b2b-title')\n",
    "print('Iniciando varredura, quantidade inicial:', len(itens))\n",
    "\n",
    "#Scrolla se necessario para baixo e abre mais itens na pagina\n",
    "try:\n",
    "    while True:\n",
    "        verProdutos = WebDriverWait(driver, 5).until(EC.presence_of_element_located((By.CSS_SELECTOR, \"button[class='b2b-button Catalog__links___4450R Catalog__buttonSeeMoreProducts___kZGUm Button__button___Oss6- Button__pointer___mYfJr Button__info___4h9Qg Button__medium___FQv5P Button__buttonInfo___aqiZj custom-brand-full-b2b']\")))\n",
    "        verProdutos.click()\n",
    "except Timeout:\n",
    "        print('Verificação Terminada. Total: ')\n",
    "        #Break()\n",
    "        \n",
    "head = driver.find_element(By.TAG_NAME, \"footer\")\n",
    "delta_x = head.rect['x']\n",
    "ActionChains(driver)\\\n",
    "    .scroll_by_amount(delta_x, -50000)\\\n",
    "    .perform()\n",
    "\n",
    "#Seta a quantidade de itens na pagina\n",
    "itens = driver.find_elements(By.CLASS_NAME, 'catalog-item-b2b-title')\n",
    "print(len(itens) , 'Itens')"
   ]
  }
 ],
 "metadata": {
  "kernelspec": {
   "display_name": "Python 3",
   "language": "python",
   "name": "python3"
  },
  "language_info": {
   "codemirror_mode": {
    "name": "ipython",
    "version": 3
   },
   "file_extension": ".py",
   "mimetype": "text/x-python",
   "name": "python",
   "nbconvert_exporter": "python",
   "pygments_lexer": "ipython3",
   "version": "3.11.9"
  }
 },
 "nbformat": 4,
 "nbformat_minor": 2
}
