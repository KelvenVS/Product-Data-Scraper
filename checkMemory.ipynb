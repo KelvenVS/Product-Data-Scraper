{
 "cells": [
  {
   "cell_type": "code",
   "execution_count": 7,
   "metadata": {},
   "outputs": [],
   "source": [
    "\n",
    "import ToolBox.kit_function as kit\n",
    "import ToolBox.login as lg\n",
    "\n",
    "from selenium.webdriver.common.by import By"
   ]
  },
  {
   "cell_type": "code",
   "execution_count": 4,
   "metadata": {},
   "outputs": [],
   "source": [
    "driver = kit.newWindow()\n",
    "url = 'https://toolsworldb2b.meuspedidos.com.br/'\n",
    "driver.get(url)"
   ]
  },
  {
   "cell_type": "code",
   "execution_count": null,
   "metadata": {},
   "outputs": [
    {
     "name": "stdout",
     "output_type": "stream",
     "text": [
      "Falha. Memória RAM: 68.7%\n"
     ]
    }
   ],
   "source": [
    "memory_percent = psutil.virtual_memory()\n",
    "if memory_percent.percent > 50:\n",
    "    print(f\"Falha. Memória RAM: {str(memory_percent.percent)}%\")\n",
    "    driver.quit()\n",
    "else:\n",
    "    print(f\"Ok. Memória RAM: {str(memory_percent.percent)}%\")  "
   ]
  },
  {
   "cell_type": "code",
   "execution_count": 6,
   "metadata": {},
   "outputs": [],
   "source": [
    "driver = kit.newWindow()\n",
    "driver.get('https://toolsworldb2b.meuspedidos.com.br/entrar')\n",
    "lg.Login(driver)"
   ]
  }
 ],
 "metadata": {
  "kernelspec": {
   "display_name": "Python 3",
   "language": "python",
   "name": "python3"
  },
  "language_info": {
   "codemirror_mode": {
    "name": "ipython",
    "version": 3
   },
   "file_extension": ".py",
   "mimetype": "text/x-python",
   "name": "python",
   "nbconvert_exporter": "python",
   "pygments_lexer": "ipython3",
   "version": "3.11.9"
  }
 },
 "nbformat": 4,
 "nbformat_minor": 2
}
