{
 "cells": [
  {
   "cell_type": "code",
   "execution_count": 1,
   "metadata": {},
   "outputs": [],
   "source": [
    "import ToolBox.kit_function as kit\n",
    "from selenium import webdriver\n",
    "from selenium.webdriver.edge.service import Service\n"
   ]
  },
  {
   "cell_type": "code",
   "execution_count": 2,
   "metadata": {},
   "outputs": [],
   "source": [
    "# Inicializa a instância do EDGE\n",
    "service = Service()\n",
    "\n",
    "options = webdriver.EdgeOptions()\n",
    "options.add_argument(\"-inprivate\")\n",
    "driver = webdriver.Edge(service=service, options=options)\n",
    "driver.maximize_window()\n",
    "\n",
    "url = 'https://toolsworldb2b.meuspedidos.com.br/'\n",
    "\n",
    "driver.get(url)"
   ]
  },
  {
   "cell_type": "code",
   "execution_count": 3,
   "metadata": {},
   "outputs": [],
   "source": [
    "def newWindow():\n",
    "    # Inicializa a instância do EDGE\n",
    "    service = Service()\n",
    "    options = webdriver.EdgeOptions()\n",
    "    options.add_argument(\"-inprivate\")\n",
    "    driver = webdriver.Edge(service=service, options=options)\n",
    "    driver.maximize_window()\n",
    "    \n",
    "    return driver    \n"
   ]
  },
  {
   "cell_type": "code",
   "execution_count": 4,
   "metadata": {},
   "outputs": [
    {
     "name": "stdout",
     "output_type": "stream",
     "text": [
      "Primeiro Site\n",
      "Segundo Site\n",
      "Terceiro Site\n"
     ]
    }
   ],
   "source": [
    "print(\"Primeiro Site\")\n",
    "driver = newWindow()\n",
    "driver.get('https://toolsworldb2b.meuspedidos.com.br/')\n",
    "kit.wait(5)\n",
    "driver.quit()\n",
    "\n",
    "print(\"Segundo Site\")\n",
    "driver = newWindow()\n",
    "driver.get('https://toolsworldb2b.meuspedidos.com.br/produtos/199285283')\n",
    "kit.wait(5)\n",
    "driver.quit()\n",
    "\n",
    "print(\"Terceiro Site\")\n",
    "driver = newWindow()\n",
    "driver.get('https://toolsworldb2b.meuspedidos.com.br/produtos/102194840')\n",
    "kit.wait(5)\n",
    "driver.quit()\n"
   ]
  },
  {
   "cell_type": "code",
   "execution_count": null,
   "metadata": {},
   "outputs": [],
   "source": [
    "sheetCategorias = 'Links/CategoriasMTX.xlsx'\n",
    "columns = ['Link']\n",
    "categoriasLinks = kit.readExcel(sheetCategorias,columns)"
   ]
  }
 ],
 "metadata": {
  "kernelspec": {
   "display_name": "Python 3",
   "language": "python",
   "name": "python3"
  },
  "language_info": {
   "codemirror_mode": {
    "name": "ipython",
    "version": 3
   },
   "file_extension": ".py",
   "mimetype": "text/x-python",
   "name": "python",
   "nbconvert_exporter": "python",
   "pygments_lexer": "ipython3",
   "version": "3.11.9"
  }
 },
 "nbformat": 4,
 "nbformat_minor": 2
}
