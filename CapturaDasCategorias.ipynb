{
 "cells": [
  {
   "cell_type": "code",
   "execution_count": 2,
   "metadata": {},
   "outputs": [],
   "source": [
    "from selenium import webdriver\n",
    "from selenium.webdriver.edge.service import Service\n",
    "from selenium.webdriver.common.by import By\n",
    "from IPython.display import clear_output\n",
    "from selenium.common.exceptions import NoSuchElementException\n",
    "import pandas as pd\n",
    "import ToolBox.kit_function as kit\n",
    "from openpyxl import load_workbook"
   ]
  },
  {
   "cell_type": "code",
   "execution_count": 3,
   "metadata": {},
   "outputs": [],
   "source": [
    "# Inicializa a instância do EDGE\n",
    "service = Service()\n",
    "\n",
    "options = webdriver.EdgeOptions()\n",
    "options.add_argument(\"-inprivate\")\n",
    "driver = webdriver.Edge(service=service, options=options)\n",
    "driver.maximize_window()\n",
    "\n",
    "url = 'https://toolsworldb2b.meuspedidos.com.br/'\n",
    "\n",
    "driver.get(url)\n",
    "kit.wait(10)"
   ]
  },
  {
   "cell_type": "code",
   "execution_count": 4,
   "metadata": {},
   "outputs": [],
   "source": [
    "dados_tabela = {'Link' : []}"
   ]
  },
  {
   "cell_type": "code",
   "execution_count": 5,
   "metadata": {},
   "outputs": [],
   "source": [
    "css_refTigre = '#__nuxt > div > div.layout > main > div > section:nth-child(2) > div > div > div.col-md-5.col-lg-6.col-xxl-5.offset-xxl-1 > div > div.mt-4.mt-sm-0.mb-6 > div > h1'\n",
    "\n",
    "seletor_Categorias1 = 'Categories__container___GNWEE'"
   ]
  },
  {
   "cell_type": "code",
   "execution_count": 6,
   "metadata": {},
   "outputs": [],
   "source": [
    "# Espera Elemento\n",
    "kit.VerifyElement(By.CLASS_NAME, seletor_Categorias1,driver)\n",
    "# Classe Mestre das Categorias\n",
    "refCat1 = driver.find_element(By.CLASS_NAME, seletor_Categorias1)\n",
    "# Subclasse das categorias\n",
    "refCat2 = refCat1.find_elements(By.TAG_NAME , 'a')"
   ]
  },
  {
   "cell_type": "code",
   "execution_count": 7,
   "metadata": {},
   "outputs": [],
   "source": [
    "#Adiciona os links em um Dicionário\n",
    "for element in refCat2:\n",
    "    link = element.get_attribute('href')\n",
    "    #print(link)\n",
    "    dados_tabela['Link'].append(link)"
   ]
  },
  {
   "cell_type": "code",
   "execution_count": 8,
   "metadata": {},
   "outputs": [],
   "source": [
    "#Cria uma planilha em XLSX para armazenar os links\n",
    "xlsx_dir = 'Links'\n",
    "xlsx_name = 'CategoriasMTX'\n",
    "tableGenerate = pd.DataFrame(dados_tabela)\n",
    "file_name = xlsx_dir + '/' + xlsx_name + '.xlsx'\n",
    "tableGenerate.to_excel(file_name, index=False)"
   ]
  }
 ],
 "metadata": {
  "kernelspec": {
   "display_name": "Python 3",
   "language": "python",
   "name": "python3"
  },
  "language_info": {
   "codemirror_mode": {
    "name": "ipython",
    "version": 3
   },
   "file_extension": ".py",
   "mimetype": "text/x-python",
   "name": "python",
   "nbconvert_exporter": "python",
   "pygments_lexer": "ipython3",
   "version": "3.11.9"
  }
 },
 "nbformat": 4,
 "nbformat_minor": 2
}
